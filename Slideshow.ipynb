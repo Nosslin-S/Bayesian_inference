{
 "cells": [
  {
   "cell_type": "code",
   "execution_count": 1,
   "metadata": {},
   "outputs": [
    {
     "data": {
      "text/html": [
       "<style>.container { width:90% !important; }</style>"
      ],
      "text/plain": [
       "<IPython.core.display.HTML object>"
      ]
     },
     "metadata": {},
     "output_type": "display_data"
    },
    {
     "data": {
      "text/html": [
       "<style>.output_result { max-width:90% !important; }</style>"
      ],
      "text/plain": [
       "<IPython.core.display.HTML object>"
      ]
     },
     "metadata": {},
     "output_type": "display_data"
    }
   ],
   "source": [
    "from IPython.core.display import display, HTML\n",
    "display(HTML(\"<style>.container { width:90% !important; }</style>\"))\n",
    "display(HTML(\"<style>.output_result { max-width:90% !important; }</style>\"))"
   ]
  },
  {
   "cell_type": "code",
   "execution_count": 55,
   "metadata": {
    "slideshow": {
     "slide_type": "skip"
    }
   },
   "outputs": [
    {
     "name": "stdout",
     "output_type": "stream",
     "text": [
      "The nb_black extension is already loaded. To reload it, use:\n",
      "  %reload_ext nb_black\n"
     ]
    },
    {
     "data": {
      "application/javascript": "\n            setTimeout(function() {\n                var nbb_cell_id = 55;\n                var nbb_unformatted_code = \"%load_ext nb_black\\nimport numpy as np\\nimport sys\\nimport os\\nimport re\\nimport matplotlib.pyplot as plt\\n\\nimport matplotlib\\nmatplotlib.rcParams['figure.facecolor']='w'\\nmatplotlib.rcParams['figure.autolayout']=True \\nmatplotlib.rcParams['figure.figsize'] = (10,5)\\n\\nfrom scipy.stats import binom, beta, multivariate_normal\\nimport scipy.integrate as integrate\\n\\nimport ipywidgets as widgets\\nfrom ipywidgets import interact\\n\\n\\n%matplotlib widget\";\n                var nbb_formatted_code = \"%load_ext nb_black\\nimport numpy as np\\nimport sys\\nimport os\\nimport re\\nimport matplotlib.pyplot as plt\\n\\nimport matplotlib\\n\\nmatplotlib.rcParams[\\\"figure.facecolor\\\"] = \\\"w\\\"\\nmatplotlib.rcParams[\\\"figure.autolayout\\\"] = True\\nmatplotlib.rcParams[\\\"figure.figsize\\\"] = (10, 5)\\n\\nfrom scipy.stats import binom, beta, multivariate_normal\\nimport scipy.integrate as integrate\\n\\nimport ipywidgets as widgets\\nfrom ipywidgets import interact\\n\\n\\n%matplotlib widget\";\n                var nbb_cells = Jupyter.notebook.get_cells();\n                for (var i = 0; i < nbb_cells.length; ++i) {\n                    if (nbb_cells[i].input_prompt_number == nbb_cell_id) {\n                        if (nbb_cells[i].get_text() == nbb_unformatted_code) {\n                             nbb_cells[i].set_text(nbb_formatted_code);\n                        }\n                        break;\n                    }\n                }\n            }, 500);\n            ",
      "text/plain": [
       "<IPython.core.display.Javascript object>"
      ]
     },
     "metadata": {},
     "output_type": "display_data"
    }
   ],
   "source": [
    "%load_ext nb_black\n",
    "import numpy as np\n",
    "import sys\n",
    "import os\n",
    "import re\n",
    "import matplotlib.pyplot as plt\n",
    "\n",
    "import matplotlib\n",
    "matplotlib.rcParams['figure.facecolor']='w'\n",
    "matplotlib.rcParams['figure.autolayout']=True \n",
    "matplotlib.rcParams['figure.figsize'] = (10,5)\n",
    "\n",
    "from scipy.stats import binom, beta, multivariate_normal\n",
    "import scipy.integrate as integrate\n",
    "\n",
    "import ipywidgets as widgets\n",
    "from ipywidgets import interact\n",
    "\n",
    "\n",
    "%matplotlib widget"
   ]
  },
  {
   "cell_type": "code",
   "execution_count": 3,
   "metadata": {},
   "outputs": [
    {
     "data": {
      "application/javascript": "\n            setTimeout(function() {\n                var nbb_cell_id = 3;\n                var nbb_unformatted_code = \"# %%html\\n# <iframe src=\\\"http://www.infinitecuriosity.org/vizgp/\\\" width=\\\"1200\\\" height=\\\"1000\\\"></iframe>\";\n                var nbb_formatted_code = \"# %%html\\n# <iframe src=\\\"http://www.infinitecuriosity.org/vizgp/\\\" width=\\\"1200\\\" height=\\\"1000\\\"></iframe>\";\n                var nbb_cells = Jupyter.notebook.get_cells();\n                for (var i = 0; i < nbb_cells.length; ++i) {\n                    if (nbb_cells[i].input_prompt_number == nbb_cell_id) {\n                        if (nbb_cells[i].get_text() == nbb_unformatted_code) {\n                             nbb_cells[i].set_text(nbb_formatted_code);\n                        }\n                        break;\n                    }\n                }\n            }, 500);\n            ",
      "text/plain": [
       "<IPython.core.display.Javascript object>"
      ]
     },
     "metadata": {},
     "output_type": "display_data"
    }
   ],
   "source": [
    "# %%html\n",
    "# <iframe src=\"http://www.infinitecuriosity.org/vizgp/\" width=\"1200\" height=\"1000\"></iframe>"
   ]
  },
  {
   "cell_type": "code",
   "execution_count": null,
   "metadata": {},
   "outputs": [],
   "source": []
  },
  {
   "cell_type": "markdown",
   "metadata": {
    "cell_style": "center",
    "slideshow": {
     "slide_type": "slide"
    }
   },
   "source": [
    "# Bayesian inferance \n",
    "## Combining MCMC and surrogate models\n",
    "\n",
    "### Stéphane Nilsson\n"
   ]
  },
  {
   "cell_type": "markdown",
   "metadata": {},
   "source": [
    "## Bayes' theorem\n",
    "\n",
    "* $P(\\theta | y)= \\frac{P(y|\\theta)}{P(y)}$\n",
    "  * $y$: Observed data\n",
    "  * $\\theta$: Parameters\n",
    "\n",
    "\n",
    "* $P(\\theta)  :$ Prior probability\n",
    "* $P(y|\\theta):$ Likelihood\n",
    "* $P(y)       :$ Evidence\n",
    "* $P(\\theta|y):$ Posterior probability -> What we are interested in\n"
   ]
  },
  {
   "cell_type": "markdown",
   "metadata": {},
   "source": [
    "## Coin flip exemple\n",
    "\n",
    "* We want to evaluate the probability $p$ of getting a head ($\\mathrm{H}$)\n",
    "* We start by assuming we have no prior information on the coin, thus we set the prior $P(p)$=Beta(1,1) (Equivalent to Uniform distribution)\n",
    "* The likelihood is given by $P(\\mathrm{H}|p)$=Binomial($\\mathrm{H}$, $\\mathrm{H+T}$, $p$)\n",
    "* Finally, we get the posterior $P(p|H)$=Beta(1,1)xBinomial($\\mathrm{H}$, $\\mathrm{H+T}$, $p$)\n",
    "\n",
    "For an analytical derivation of the solution, visit [Bayesian Coin Flip](https://nbviewer.org/github/lambdafu/notebook/blob/master/math/Bayesian%20Coin%20Flip.ipynb)\n",
    "\n",
    "For more in-depth explanations with Python code, I recommand [Bayesian Methods for Hackers](https://github.com/CamDavidsonPilon/Probabilistic-Programming-and-Bayesian-Methods-for-Hackers)"
   ]
  },
  {
   "cell_type": "code",
   "execution_count": 166,
   "metadata": {
    "hide_input": false,
    "slideshow": {
     "slide_type": "fragment"
    },
    "tags": [
     "to_remove"
    ]
   },
   "outputs": [
    {
     "data": {
      "application/vnd.jupyter.widget-view+json": {
       "model_id": "46f9a1e712854ea6b137c88b876d2327",
       "version_major": 2,
       "version_minor": 0
      },
      "text/plain": [
       "Canvas(toolbar=Toolbar(toolitems=[('Home', 'Reset original view', 'home', 'home'), ('Back', 'Back to previous …"
      ]
     },
     "metadata": {},
     "output_type": "display_data"
    },
    {
     "data": {
      "application/vnd.jupyter.widget-view+json": {
       "model_id": "fbde529925214b28bd73abe047e31342",
       "version_major": 2,
       "version_minor": 0
      },
      "text/plain": [
       "interactive(children=(IntSlider(value=0, description='Number of heads: ', max=50, style=SliderStyle(descriptio…"
      ]
     },
     "metadata": {},
     "output_type": "display_data"
    },
    {
     "data": {
      "application/javascript": "\n            setTimeout(function() {\n                var nbb_cell_id = 166;\n                var nbb_unformatted_code = \"fig, ax = plt.subplots(1, 1, figsize=(8, 4))\\n\\n\\ndef posterior(H, T, a, b, x):\\n    y = prior(a, b, x) * likelihood(H, T, x)\\n    return y / integrate.simpson(y, x)\\n\\n\\ndef likelihood(H, T, x):\\n    #Normalize likelihood to make it look nicer\\n    y = binom.pmf(H, H + T, [x]).reshape(-1,)\\n    return y / integrate.simpson(\\n        y, x\\n    )\\n\\n\\ndef prior(a, b, x):\\n    return beta.pdf(x, a, b)\\n\\n\\n@interact(\\n    H=widgets.IntSlider(\\n        min=0,\\n        max=50,\\n        value=0,\\n        description=\\\"Number of heads: \\\",\\n        style={\\\"description_width\\\": \\\"initial\\\"},\\n    ),\\n    T=widgets.IntSlider(\\n        min=0,\\n        max=50,\\n        value=0,\\n        description=\\\"Number of tails:   \\\",\\n        style={\\\"description_width\\\": \\\"initial\\\"},\\n    ),\\n    a=widgets.IntSlider(min=1, max=10, value=1, description=\\\"a: \\\"),\\n    b=widgets.IntSlider(min=1, max=10, value=1, description=\\\"b: \\\"),\\n)\\ndef update(H, T, a, b):\\n    # [l.remove() for l in ax.lines]\\n    # [l.remove() for l in ax.lines]\\n    ax.cla()\\n    #Check if ax.collections is empty\\n    # if len(ax.collections):\\n    #     ax.collections.pop()\\n    x = np.linspace(0, 1, 200)\\n\\n    y_prior = prior(a, b, x)\\n    y_likelihood = likelihood(H, T, x)\\n    y_post = posterior(H, T, a, b, x)\\n\\n    \\n    ax.plot(x, y_prior, \\\"--\\\", c=\\\"blue\\\", label=\\\"Prior\\\",alpha=0.6)\\n    ax.plot(x, y_likelihood, \\\"--\\\", c=\\\"red\\\", label=\\\"Likelihood\\\",alpha=0.6)\\n    ax.plot(x, y_post, c=\\\"violet\\\",label=\\\"Posterior\\\")\\n    ax.fill_between(x, x*0, y_post, color=\\\"violet\\\",alpha=0.2)\\n    \\n    ax.set_ylim(\\n        (np.min(y_post) - 1e-1, np.max(np.r_[y_post, y_likelihood, y_prior]) + 1e-1)\\n    )\\n    ax.set_xlim((0, 1))\\n\\n    plt.xlabel('$p$')\\n    plt.ylabel('PDF')\\n    plt.legend();\";\n                var nbb_formatted_code = \"fig, ax = plt.subplots(1, 1, figsize=(8, 4))\\n\\n\\ndef posterior(H, T, a, b, x):\\n    y = prior(a, b, x) * likelihood(H, T, x)\\n    return y / integrate.simpson(y, x)\\n\\n\\ndef likelihood(H, T, x):\\n    # Normalize likelihood to make it look nicer\\n    y = binom.pmf(H, H + T, [x]).reshape(-1,)\\n    return y / integrate.simpson(y, x)\\n\\n\\ndef prior(a, b, x):\\n    return beta.pdf(x, a, b)\\n\\n\\n@interact(\\n    H=widgets.IntSlider(\\n        min=0,\\n        max=50,\\n        value=0,\\n        description=\\\"Number of heads: \\\",\\n        style={\\\"description_width\\\": \\\"initial\\\"},\\n    ),\\n    T=widgets.IntSlider(\\n        min=0,\\n        max=50,\\n        value=0,\\n        description=\\\"Number of tails:   \\\",\\n        style={\\\"description_width\\\": \\\"initial\\\"},\\n    ),\\n    a=widgets.IntSlider(min=1, max=10, value=1, description=\\\"a: \\\"),\\n    b=widgets.IntSlider(min=1, max=10, value=1, description=\\\"b: \\\"),\\n)\\ndef update(H, T, a, b):\\n    # [l.remove() for l in ax.lines]\\n    # [l.remove() for l in ax.lines]\\n    ax.cla()\\n    # Check if ax.collections is empty\\n    # if len(ax.collections):\\n    #     ax.collections.pop()\\n    x = np.linspace(0, 1, 200)\\n\\n    y_prior = prior(a, b, x)\\n    y_likelihood = likelihood(H, T, x)\\n    y_post = posterior(H, T, a, b, x)\\n\\n    ax.plot(x, y_prior, \\\"--\\\", c=\\\"blue\\\", label=\\\"Prior\\\", alpha=0.6)\\n    ax.plot(x, y_likelihood, \\\"--\\\", c=\\\"red\\\", label=\\\"Likelihood\\\", alpha=0.6)\\n    ax.plot(x, y_post, c=\\\"violet\\\", label=\\\"Posterior\\\")\\n    ax.fill_between(x, x * 0, y_post, color=\\\"violet\\\", alpha=0.2)\\n\\n    ax.set_ylim(\\n        (np.min(y_post) - 1e-1, np.max(np.r_[y_post, y_likelihood, y_prior]) + 1e-1)\\n    )\\n    ax.set_xlim((0, 1))\\n\\n    plt.xlabel(\\\"$p$\\\")\\n    plt.ylabel(\\\"PDF\\\")\\n    plt.legend()\";\n                var nbb_cells = Jupyter.notebook.get_cells();\n                for (var i = 0; i < nbb_cells.length; ++i) {\n                    if (nbb_cells[i].input_prompt_number == nbb_cell_id) {\n                        if (nbb_cells[i].get_text() == nbb_unformatted_code) {\n                             nbb_cells[i].set_text(nbb_formatted_code);\n                        }\n                        break;\n                    }\n                }\n            }, 500);\n            ",
      "text/plain": [
       "<IPython.core.display.Javascript object>"
      ]
     },
     "metadata": {},
     "output_type": "display_data"
    }
   ],
   "source": [
    "fig, ax = plt.subplots(1, 1, figsize=(8, 4))\n",
    "\n",
    "\n",
    "def posterior(H, T, a, b, x):\n",
    "    y = prior(a, b, x) * likelihood(H, T, x)\n",
    "    return y / integrate.simpson(y, x)\n",
    "\n",
    "\n",
    "def likelihood(H, T, x):\n",
    "    #Normalize likelihood to make it look nicer\n",
    "    y = binom.pmf(H, H + T, [x]).reshape(-1,)\n",
    "    return y / integrate.simpson(\n",
    "        y, x\n",
    "    )\n",
    "\n",
    "\n",
    "def prior(a, b, x):\n",
    "    return beta.pdf(x, a, b)\n",
    "\n",
    "\n",
    "@interact(\n",
    "    H=widgets.IntSlider(\n",
    "        min=0,\n",
    "        max=50,\n",
    "        value=0,\n",
    "        description=\"Number of heads: \",\n",
    "        style={\"description_width\": \"initial\"},\n",
    "    ),\n",
    "    T=widgets.IntSlider(\n",
    "        min=0,\n",
    "        max=50,\n",
    "        value=0,\n",
    "        description=\"Number of tails:   \",\n",
    "        style={\"description_width\": \"initial\"},\n",
    "    ),\n",
    "    a=widgets.IntSlider(min=1, max=10, value=1, description=\"a: \"),\n",
    "    b=widgets.IntSlider(min=1, max=10, value=1, description=\"b: \"),\n",
    ")\n",
    "def update(H, T, a, b):\n",
    "    # [l.remove() for l in ax.lines]\n",
    "    # [l.remove() for l in ax.lines]\n",
    "    # Clear axis\n",
    "    ax.cla()\n",
    "    #Check if ax.collections is empty\n",
    "    # if len(ax.collections):\n",
    "    #     ax.collections.pop()\n",
    "    x = np.linspace(0, 1, 200)\n",
    "\n",
    "    y_prior = prior(a, b, x)\n",
    "    y_likelihood = likelihood(H, T, x)\n",
    "    y_post = posterior(H, T, a, b, x)\n",
    "\n",
    "    \n",
    "    ax.plot(x, y_prior, \"--\", c=\"blue\", label=\"Prior\",alpha=0.6)\n",
    "    ax.plot(x, y_likelihood, \"--\", c=\"red\", label=\"Likelihood\",alpha=0.6)\n",
    "    ax.plot(x, y_post, c=\"violet\",label=\"Posterior\")\n",
    "    ax.fill_between(x, x*0, y_post, color=\"violet\",alpha=0.2)\n",
    "    \n",
    "    ax.set_ylim(\n",
    "        (np.min(y_post) - 1e-1, np.max(np.r_[y_post, y_likelihood, y_prior]) + 1e-1)\n",
    "    )\n",
    "    ax.set_xlim((0, 1))\n",
    "\n",
    "    plt.xlabel('$p$')\n",
    "    plt.ylabel('PDF')\n",
    "    plt.legend();"
   ]
  },
  {
   "cell_type": "markdown",
   "metadata": {},
   "source": [
    "## What if we cannot compute directly $P(\\theta|y)$?\n",
    "### => MCMC "
   ]
  },
  {
   "cell_type": "markdown",
   "metadata": {
    "slideshow": {
     "slide_type": "slide"
    }
   },
   "source": [
    "Algorithm :\n",
    "1. Initialize with an arbitrary set of parameters $\\theta$ and set a probability distribution function from which the next candidate $\\theta'$ will be picked from. Usually it is a Gaussian centered around $\\theta$.\n",
    "2. Randomly pick a new candidate $\\theta'$ following the distribution.\n",
    "3. Compute the acceptance probability $\\alpha=\\frac{P(y|\\theta')P(\\theta')}{P(y|\\theta')P(\\theta)}$\n",
    "4. Accept or reject :\n",
    "  * Draw a random number $u \\in [0,1]$\n",
    "  * If $\\alpha>u$ , accept and set $\\theta_{t+1}=\\theta'$\n",
    "  * If $\\alpha<u$ , reject and set $\\theta_{t+1}=\\theta$\n",
    "\n",
    "For more information about different sampling techniques, visit [MCMC Algorithms](https://m-clark.github.io/docs/ld_mcmc/index_onepage.html) "
   ]
  },
  {
   "cell_type": "markdown",
   "metadata": {},
   "source": [
    "Now let's apply the algorithm to the previous example and compare to analytical solution as the number of samples grows.\n",
    "\n",
    "This time we assume that the coin is biased towards Heads, and thus set the prior distribution to Beta(10,5).\n",
    "\n",
    "We flip the coin 50 times and obtain 28 $\\mathrm{H}$"
   ]
  },
  {
   "cell_type": "code",
   "execution_count": 144,
   "metadata": {},
   "outputs": [
    {
     "data": {
      "application/javascript": "\n            setTimeout(function() {\n                var nbb_cell_id = 144;\n                var nbb_unformatted_code = \"def MCMC(n_samples,accepted,rejected):\\n    a, b=10, 5\\n    H, T=28, 22\\n    \\n\\n    #Sample first sample from prior\\n    p_old=beta.rvs(a=10,b=5,size=1)\\n    for _ in range(n_samples):\\n        #Sample new sample from Gaussian distribution centered around p_old\\n        p_new=multivariate_normal.rvs(mean=p_old,cov=0.1)\\n        #Redraw if probability not between 0 and 1\\n        while not 0<p_new<1:\\n            p_new=multivariate_normal.rvs(mean=p_old,cov=0.1)\\n\\n\\n        likelihood= lambda p: binom.pmf(H, H + T, p).reshape(-1,)\\n        prior= lambda p: beta.pdf(p, a, b)\\n\\n        alpha=likelihood(p_new)*prior(p_new)/(likelihood(p_old)*prior(p_old))\\n        \\n        u=np.random.random(1)\\n        if alpha>u:\\n            accepted.append(p_new)\\n            p_old=p_new\\n        else:\\n            rejected.append(p_new)\\n    \\n    return accepted, rejected\\n    \";\n                var nbb_formatted_code = \"def MCMC(n_samples, accepted, rejected):\\n    a, b = 10, 5\\n    H, T = 28, 22\\n\\n    # Sample first sample from prior\\n    p_old = beta.rvs(a=10, b=5, size=1)\\n    for _ in range(n_samples):\\n        # Sample new sample from Gaussian distribution centered around p_old\\n        p_new = multivariate_normal.rvs(mean=p_old, cov=0.1)\\n        # Redraw if probability not between 0 and 1\\n        while not 0 < p_new < 1:\\n            p_new = multivariate_normal.rvs(mean=p_old, cov=0.1)\\n\\n        likelihood = lambda p: binom.pmf(H, H + T, p).reshape(-1,)\\n        prior = lambda p: beta.pdf(p, a, b)\\n\\n        alpha = likelihood(p_new) * prior(p_new) / (likelihood(p_old) * prior(p_old))\\n\\n        u = np.random.random(1)\\n        if alpha > u:\\n            accepted.append(p_new)\\n            p_old = p_new\\n        else:\\n            rejected.append(p_new)\\n\\n    return accepted, rejected\";\n                var nbb_cells = Jupyter.notebook.get_cells();\n                for (var i = 0; i < nbb_cells.length; ++i) {\n                    if (nbb_cells[i].input_prompt_number == nbb_cell_id) {\n                        if (nbb_cells[i].get_text() == nbb_unformatted_code) {\n                             nbb_cells[i].set_text(nbb_formatted_code);\n                        }\n                        break;\n                    }\n                }\n            }, 500);\n            ",
      "text/plain": [
       "<IPython.core.display.Javascript object>"
      ]
     },
     "metadata": {},
     "output_type": "display_data"
    }
   ],
   "source": [
    "def MCMC(n_samples,accepted,rejected):\n",
    "    a, b=10, 5\n",
    "    H, T=28, 22\n",
    "    \n",
    "\n",
    "    #Sample first sample from prior\n",
    "    p_old=beta.rvs(a=10,b=5,size=1)\n",
    "    for _ in range(n_samples):\n",
    "        #Sample new sample from Gaussian distribution centered around p_old\n",
    "        p_new=multivariate_normal.rvs(mean=p_old,cov=0.1)\n",
    "        #Redraw if probability not between 0 and 1\n",
    "        while not 0<p_new<1:\n",
    "            p_new=multivariate_normal.rvs(mean=p_old,cov=0.1)\n",
    "\n",
    "\n",
    "        likelihood= lambda p: binom.pmf(H, H + T, p).reshape(-1,)\n",
    "        prior= lambda p: beta.pdf(p, a, b)\n",
    "\n",
    "        alpha=likelihood(p_new)*prior(p_new)/(likelihood(p_old)*prior(p_old))\n",
    "        \n",
    "        u=np.random.random(1)\n",
    "        if alpha>u:\n",
    "            accepted.append(p_new)\n",
    "            p_old=p_new\n",
    "        else:\n",
    "            rejected.append(p_new)\n",
    "    \n",
    "    return accepted, rejected\n",
    "    "
   ]
  },
  {
   "cell_type": "code",
   "execution_count": 175,
   "metadata": {},
   "outputs": [
    {
     "data": {
      "application/vnd.jupyter.widget-view+json": {
       "model_id": "43bab5d4fae543da8ddf63c220b0222b",
       "version_major": 2,
       "version_minor": 0
      },
      "text/plain": [
       "Canvas(toolbar=Toolbar(toolitems=[('Home', 'Reset original view', 'home', 'home'), ('Back', 'Back to previous …"
      ]
     },
     "metadata": {},
     "output_type": "display_data"
    },
    {
     "data": {
      "application/vnd.jupyter.widget-view+json": {
       "model_id": "d36ffec498594bcd8806dded4adc8ba2",
       "version_major": 2,
       "version_minor": 0
      },
      "text/plain": [
       "Dropdown(description='Number of samples: ', options=((1000, 1000), (2000, 2000), (5000, 5000)), style=Descript…"
      ]
     },
     "metadata": {},
     "output_type": "display_data"
    },
    {
     "data": {
      "application/vnd.jupyter.widget-view+json": {
       "model_id": "b4ba74c6dd6a4a44a57639985d4fd3dd",
       "version_major": 2,
       "version_minor": 0
      },
      "text/plain": [
       "Button(description='Draw samples', style=ButtonStyle())"
      ]
     },
     "metadata": {},
     "output_type": "display_data"
    },
    {
     "data": {
      "application/vnd.jupyter.widget-view+json": {
       "model_id": "1db29a615a5c43c6a883e0b185e22971",
       "version_major": 2,
       "version_minor": 0
      },
      "text/plain": [
       "Output()"
      ]
     },
     "metadata": {},
     "output_type": "display_data"
    },
    {
     "data": {
      "application/javascript": "\n            setTimeout(function() {\n                var nbb_cell_id = 175;\n                var nbb_unformatted_code = \"from IPython.display import display\\nimport functools\\n\\nfig, ax=plt.subplots(1,1)\\naccepted=[]\\nrejected=[]\\n\\nx=np.linspace(0,1,100)\\ny_analytic = posterior(28,22,10,5,x)\\n\\ndropdown=widgets.Dropdown(\\n    options=[(1000, 1000), (2000, 2000), (5000, 5000)],\\n    value=1000,\\n    description='Number of samples: ',\\n    style={\\\"description_width\\\": \\\"initial\\\"}\\n)\\n\\nbutton = widgets.Button(description=\\\"Draw samples\\\")\\noutput = widgets.Output()\\n\\ndisplay(dropdown,button, output)\\n\\ndef update(n_samples, accepted, rejected):\\n    with output:\\n        accepted, rejected = MCMC(n_samples, accepted, rejected)\\n        ax.cla()\\n        ax.hist(accepted,bins=50,density=True, histtype='step', color='blue', label='Drawn samples');\\n        ax.plot(x,y_analytic, label='Analytical posterior', color='violet')\\n        ax.fill_between(x, x*0, y_analytic, color=\\\"violet\\\",alpha=0.2)\\n        plt.legend()\\n        plt.xlabel('$p$')\\n        plt.ylabel('PDF')\\n\\ndef on_button_clicked(b, n_samples, accepted, rejected):\\n    update(n_samples, accepted, rejected)\\n\\n\\nbutton.on_click(functools.partial(on_button_clicked, n_samples=dropdown.value, accepted=accepted, rejected=rejected))\";\n                var nbb_formatted_code = \"from IPython.display import display\\nimport functools\\n\\nfig, ax = plt.subplots(1, 1)\\naccepted = []\\nrejected = []\\n\\nx = np.linspace(0, 1, 100)\\ny_analytic = posterior(28, 22, 10, 5, x)\\n\\ndropdown = widgets.Dropdown(\\n    options=[(1000, 1000), (2000, 2000), (5000, 5000)],\\n    value=1000,\\n    description=\\\"Number of samples: \\\",\\n    style={\\\"description_width\\\": \\\"initial\\\"},\\n)\\n\\nbutton = widgets.Button(description=\\\"Draw samples\\\")\\noutput = widgets.Output()\\n\\ndisplay(dropdown, button, output)\\n\\n\\ndef update(n_samples, accepted, rejected):\\n    with output:\\n        accepted, rejected = MCMC(n_samples, accepted, rejected)\\n        ax.cla()\\n        ax.hist(\\n            accepted,\\n            bins=50,\\n            density=True,\\n            histtype=\\\"step\\\",\\n            color=\\\"blue\\\",\\n            label=\\\"Drawn samples\\\",\\n        )\\n        ax.plot(x, y_analytic, label=\\\"Analytical posterior\\\", color=\\\"violet\\\")\\n        ax.fill_between(x, x * 0, y_analytic, color=\\\"violet\\\", alpha=0.2)\\n        plt.legend()\\n        plt.xlabel(\\\"$p$\\\")\\n        plt.ylabel(\\\"PDF\\\")\\n\\n\\ndef on_button_clicked(b, n_samples, accepted, rejected):\\n    update(n_samples, accepted, rejected)\\n\\n\\nbutton.on_click(\\n    functools.partial(\\n        on_button_clicked,\\n        n_samples=dropdown.value,\\n        accepted=accepted,\\n        rejected=rejected,\\n    )\\n)\";\n                var nbb_cells = Jupyter.notebook.get_cells();\n                for (var i = 0; i < nbb_cells.length; ++i) {\n                    if (nbb_cells[i].input_prompt_number == nbb_cell_id) {\n                        if (nbb_cells[i].get_text() == nbb_unformatted_code) {\n                             nbb_cells[i].set_text(nbb_formatted_code);\n                        }\n                        break;\n                    }\n                }\n            }, 500);\n            ",
      "text/plain": [
       "<IPython.core.display.Javascript object>"
      ]
     },
     "metadata": {},
     "output_type": "display_data"
    }
   ],
   "source": [
    "from IPython.display import display\n",
    "import functools\n",
    "\n",
    "fig, ax=plt.subplots(1,1)\n",
    "accepted=[]\n",
    "rejected=[]\n",
    "\n",
    "x=np.linspace(0,1,100)\n",
    "y_analytic = posterior(28,22,10,5,x)\n",
    "\n",
    "dropdown=widgets.Dropdown(\n",
    "    options=[(1000, 1000), (2000, 2000), (5000, 5000)],\n",
    "    value=1000,\n",
    "    description='Number of samples: ',\n",
    "    style={\"description_width\": \"initial\"}\n",
    ")\n",
    "\n",
    "button = widgets.Button(description=\"Draw samples\")\n",
    "output = widgets.Output()\n",
    "\n",
    "display(dropdown,button, output)\n",
    "\n",
    "def update(n_samples, accepted, rejected):\n",
    "    with output:\n",
    "        accepted, rejected = MCMC(n_samples, accepted, rejected)\n",
    "        ax.cla()\n",
    "        ax.hist(accepted,bins=50,density=True, histtype='step', color='blue', label='Drawn samples');\n",
    "        ax.plot(x,y_analytic, label='Analytical posterior', color='violet')\n",
    "        ax.fill_between(x, x*0, y_analytic, color=\"violet\",alpha=0.2)\n",
    "        plt.legend()\n",
    "        plt.xlabel('$p$')\n",
    "        plt.ylabel('PDF')\n",
    "\n",
    "def on_button_clicked(b, n_samples, accepted, rejected):\n",
    "    update(n_samples, accepted, rejected)\n",
    "\n",
    "\n",
    "button.on_click(functools.partial(on_button_clicked, n_samples=dropdown.value, accepted=accepted, rejected=rejected))\n"
   ]
  }
 ],
 "metadata": {
  "interpreter": {
   "hash": "97ae724bfa85b9b34df7982b8bb8c7216f435b92902d749e4263f71162bea840"
  },
  "kernelspec": {
   "display_name": "Python 3.8.10 64-bit ('base': conda)",
   "name": "python3"
  },
  "language_info": {
   "codemirror_mode": {
    "name": "ipython",
    "version": 3
   },
   "file_extension": ".py",
   "mimetype": "text/x-python",
   "name": "python",
   "nbconvert_exporter": "python",
   "pygments_lexer": "ipython3",
   "version": "3.8.10"
  }
 },
 "nbformat": 4,
 "nbformat_minor": 2
}
